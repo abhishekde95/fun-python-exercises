{
 "cells": [
  {
   "cell_type": "code",
   "execution_count": null,
   "metadata": {},
   "outputs": [],
   "source": [
    "# Trying to code for rock, papers and scissors \n",
    "from random import randint \n",
    "\n",
    "# Creating a list of play options \n",
    "t = [\"Rock\",\"Paper\",\"Scissors\"]\n",
    "\n",
    "# Assigning a random play to the computer\n",
    "Computer = t[randint(0,2)]"
   ]
  },
  {
   "cell_type": "code",
   "execution_count": null,
   "metadata": {},
   "outputs": [],
   "source": [
    "# set the player to false\n",
    "player = False\n",
    "\n",
    "\n",
    "while player == False:\n",
    "    # Get input from player\n",
    "    player = input(\"Rock,Paper,Scissors?\")\n",
    "    if player==Computer:\n",
    "        print(\"Tie!\")\n",
    "    elif player == \"Rock\":\n",
    "        if Computer == \"Scissors\":\n",
    "            print(\"You Lose!\")\n",
    "        else:\n",
    "            print(\"You Win\")\n",
    "    elif player == \"Paper\":\n",
    "        if Computer == \"Scissors\":\n",
    "            print(\"You Lose!\")\n",
    "        else:\n",
    "            print(\"You Win\")\n",
    "    elif player == \"Scissors\":\n",
    "        if Computer == \"Rock\":\n",
    "            print(\"You Lose!\")\n",
    "        else:\n",
    "            print(\"You Win\")\n",
    "    else:\n",
    "        print(\"Thats not a valid play! Check your spelling.\")\n",
    "    \n",
    "    player=False\n",
    "    Computer = t[randint(0,2)]\n",
    "    \n",
    "                \n",
    "            "
   ]
  },
  {
   "cell_type": "code",
   "execution_count": null,
   "metadata": {},
   "outputs": [],
   "source": []
  }
 ],
 "metadata": {
  "kernelspec": {
   "display_name": "Python 3",
   "language": "python",
   "name": "python3"
  },
  "language_info": {
   "codemirror_mode": {
    "name": "ipython",
    "version": 3
   },
   "file_extension": ".py",
   "mimetype": "text/x-python",
   "name": "python",
   "nbconvert_exporter": "python",
   "pygments_lexer": "ipython3",
   "version": "3.7.1"
  }
 },
 "nbformat": 4,
 "nbformat_minor": 2
}
